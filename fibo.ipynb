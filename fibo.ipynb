{
 "cells": [
  {
   "cell_type": "code",
   "execution_count": 73,
   "id": "e6762143",
   "metadata": {},
   "outputs": [
    {
     "name": "stdout",
     "output_type": "stream",
     "text": [
      "0\n",
      "1\n",
      "1\n",
      "2\n",
      "3\n",
      "5\n",
      "8\n",
      "13\n",
      "21\n",
      "34\n"
     ]
    }
   ],
   "source": [
    "# fibo series\n",
    "# 10 = 34\n",
    "\n",
    "def fibo1(n):\n",
    "#     x=n\n",
    "    n1 = 0\n",
    "    n2 = 0\n",
    "    result = 0\n",
    "    if n == 2:\n",
    "        return 1\n",
    "    for i in range(1, n):\n",
    "        n1 = n2\n",
    "        n2 = result \n",
    "        if i ==2 or i == 3 :\n",
    "            n1=1\n",
    "        result = n1 + n2\n",
    "#         print(\"pos= \",i,\" result= \",result)\n",
    "    return result\n",
    "\n",
    "print(fibo1(1))\n",
    "print(fibo1(2))\n",
    "print(fibo1(3))\n",
    "print(fibo1(4))\n",
    "print(fibo1(5))\n",
    "print(fibo1(6))\n",
    "print(fibo1(7))\n",
    "print(fibo1(8))\n",
    "print(fibo1(9))\n",
    "print(fibo1(10))"
   ]
  },
  {
   "cell_type": "code",
   "execution_count": null,
   "id": "893714f6",
   "metadata": {},
   "outputs": [],
   "source": []
  }
 ],
 "metadata": {
  "kernelspec": {
   "display_name": "Python 3",
   "language": "python",
   "name": "python3"
  },
  "language_info": {
   "codemirror_mode": {
    "name": "ipython",
    "version": 3
   },
   "file_extension": ".py",
   "mimetype": "text/x-python",
   "name": "python",
   "nbconvert_exporter": "python",
   "pygments_lexer": "ipython3",
   "version": "3.8.8"
  }
 },
 "nbformat": 4,
 "nbformat_minor": 5
}
